{
 "cells": [
  {
   "cell_type": "code",
   "execution_count": 1,
   "metadata": {
    "collapsed": false
   },
   "outputs": [],
   "source": [
    "################ Project 1 SDES (AE663) ################\n",
    "\n",
    "import math"
   ]
  },
  {
   "cell_type": "markdown",
   "metadata": {},
   "source": [
    "# Following code gives the implementation of RK4 ode-solver\n",
    "* Given the differential equation and initial condition the following code \n",
    "    gives numerical solution of the differential equation"
   ]
  },
  {
   "cell_type": "code",
   "execution_count": 2,
   "metadata": {
    "collapsed": true
   },
   "outputs": [],
   "source": [
    "################ Implementation of RK4 ################\n",
    "def rk4(f, x0, t0, t1, n, param = []):\n",
    "    '''\n",
    "    Solve the IVP \n",
    "        dot(x) = f(x, t, param) \n",
    "    Initial conditions:\n",
    "        x(t0) = x0\n",
    "    from t0 to t1 (n steps)    \n",
    "    '''\n",
    "    import numpy as np\n",
    "    if type(x0) is list:\n",
    "        vx = np.array([np.array([float(0)]*len(x0))]*(n+1))\n",
    "    else:\n",
    "        vx = np.array([float(0)]*(n+1))   \n",
    "\n",
    "    time = [0]*(n+1)\n",
    "    vx[0] = x0\n",
    "    x = x0\n",
    "    time[0] = t0\n",
    "    t = t0\n",
    "    \n",
    "    h = (t1 - t0)/float(n)\n",
    "    for i in range(1,n+1):\n",
    "        k1 = h*np.array(f(x, t, param))\n",
    "        k2 = h*np.array(f(x + 0.5*k1, t + 0.5*h, param))\n",
    "        k3 = h*np.array(f(x + 0.5*k2, t + 0.5*h, param))\n",
    "        k4 = h*np.array(f(x + k3, t + h, param))\n",
    "        vx[i] = x + (1.0/6)*(k1 + 2*k2 + 2*k3 + k4)\n",
    "        time[i] = t0 + i*h \n",
    "        t = time[i]\n",
    "        x = vx[i]\n",
    "    if type(x0) is list:\n",
    "        res_vx = [list(k) for k in vx]\n",
    "    else:\n",
    "        res_vx = [k for k in vx]\n",
    "    return res_vx, time"
   ]
  },
  {
   "cell_type": "markdown",
   "metadata": {},
   "source": [
    "# Testing the RK4 algorithm"
   ]
  },
  {
   "cell_type": "code",
   "execution_count": 3,
   "metadata": {
    "collapsed": true
   },
   "outputs": [],
   "source": [
    "################ Testing RK4 ################\n",
    "\n",
    "def check_rk4_1(y, t, param = []):\n",
    "    '''\n",
    "    Solving differential equation \n",
    "        dot(y) = y ; \n",
    "        y(0) = 1, t0 = 0, t = 5, n = 1000   \n",
    "    '''\n",
    "    return y\n",
    "\n",
    "def check_rk4_2(y, t, param = []):\n",
    "    '''\n",
    "    Solving differential equation \n",
    "        dot(y1) = y1 + y2, dot(y2) = y1 - y2; \n",
    "        y(0) = [10, 5], t0 = 0, t = 5, n = 1000   \n",
    "    '''\n",
    "    return [y[1], y[0]]\n",
    "\n",
    "def check_rk4_3(y, t, param = []):\n",
    "    '''\n",
    "    Solving differential equation \n",
    "        dot(y1) = y1 , dot(y2) = - y2; \n",
    "        y(0) = [1, 1], t0 = 0, t = 5, n = 1000   \n",
    "    '''\n",
    "    return [y[0] , -y[1]]\n",
    "\n",
    "def check_rk4_4(y, t, param = []):\n",
    "    '''\n",
    "    Solving differential equation \n",
    "        dot(y1) = y1 , dot(y2) = - y2; \n",
    "        y(0) = [1, 1], t0 = 0, t = 5, n = 1000   \n",
    "    '''\n",
    "    return [-y[1] , y[0]]\n",
    "\n",
    "\n",
    "def run_rk4_on_check_rk4_1():\n",
    "    y0 = 1\n",
    "    t0 = 0\n",
    "    t1 = 5\n",
    "    n = 1000\n",
    "    y,t = rk4(check_rk4_1, y0, t0, t1, n)\n",
    "    return ( max( [ abs((y[i] - math.exp(t[i]))) for i in range(n+1) ] ) )\n",
    "    \n",
    "def run_rk4_on_check_rk4_2():\n",
    "    y0 = [2, 0]\n",
    "    t0 = 0\n",
    "    t1 = 5\n",
    "    n = 1000\n",
    "    y,t = rk4(check_rk4_2, y0, t0, t1, n)\n",
    "    return ( max( [ abs((y[i][0] - math.exp(t[i]) - math.exp(-t[i]) )) for i in range(n+1) ] ), \\\n",
    "           max( [ abs((y[i][1] - math.exp(t[i]) + math.exp(-t[i]) )) for i in range(n+1) ] )  ) \n",
    "\n",
    "def run_rk4_on_check_rk4_3():\n",
    "    y0 = [1, 1]\n",
    "    t0 = 0\n",
    "    t1 = 5\n",
    "    n = 1000\n",
    "    y,t = rk4(check_rk4_3, y0, t0, t1, n)\n",
    "    return ( max( [ abs((y[i][0] - math.exp(t[i]))) for i in range(n+1) ] ), \\\n",
    "           max( [ abs((y[i][1] - math.exp(-t[i]))) for i in range(n+1) ] )  )    \n",
    "\n",
    "def run_rk4_on_check_rk4_4():\n",
    "    y0 = [1, -1]\n",
    "    t0 = 0\n",
    "    t1 = 5\n",
    "    n = 1000\n",
    "    y,t = rk4(check_rk4_4, y0, t0, t1, n)\n",
    "    return ( max( [ abs((y[i][0] - math.sin(t[i]) - math.cos(t[i]) )) for i in range(n+1) ] ), \\\n",
    "           max( [ abs((y[i][1] - math.sin(t[i]) + math.cos(t[i]) )) for i in range(n+1) ] )  ) \n",
    "    \n",
    "def test_rk4():\n",
    "    tol = 10**-5\n",
    "    \n",
    "    res = run_rk4_on_check_rk4_1()\n",
    "    assert res < tol\n",
    "    \n",
    "    res = run_rk4_on_check_rk4_2()\n",
    "    assert res[0] < tol and res[1] < tol\n",
    "\n",
    "    res = run_rk4_on_check_rk4_3()\n",
    "    assert res[0] < tol and res[1] < tol\n",
    "\n",
    "    res = run_rk4_on_check_rk4_4()\n",
    "    assert res[0] < tol and res[1] < tol"
   ]
  },
  {
   "cell_type": "markdown",
   "metadata": {},
   "source": [
    "# Plotting the state variables\n",
    "* Defines all the parameter of the plot (linewidth, marker etc..)"
   ]
  },
  {
   "cell_type": "code",
   "execution_count": 4,
   "metadata": {
    "collapsed": true
   },
   "outputs": [],
   "source": [
    "################ Plotting Options ################\n",
    "\n",
    "def plot(x, y, Title, xTitle, legend, option = False, name = None ,show = True):\n",
    "    '''\n",
    "    Plots the values with linespecs set \n",
    "    '''\n",
    "    import matplotlib.pyplot as plt\n",
    "    \n",
    "    plt.figure()\n",
    "    pos, = plt.plot(x, y[0], '-ro', lw=1, label=legend[0])\n",
    "    vel, = plt.plot(x, y[1], '-bx', lw=1, label=legend[1])\n",
    "    plt.hold('on')\n",
    "    plt.xlabel(xTitle, family='sans-serif', style='italic',size=10)\n",
    "    plt.title(Title, family='sans-serif', style='italic',size=10)\n",
    "    plt.legend(handles=[pos, vel], fontsize=10)\n",
    "    if(option):\n",
    "        plt.savefig(name + '.png') \n",
    "    if(show):\n",
    "        plt.show()"
   ]
  },
  {
   "cell_type": "markdown",
   "metadata": {},
   "source": [
    "# Helper functions \n",
    "* Change the file parameters.txt or define the values of m, c, k to compute appropriate solution\n",
    "* force is the forcing function \n",
    "* read_parameters reads the parameters from the file parameters.txt\n",
    "* dynamics is the state-space model of the spring-mass damper system; param[0:2] = [m, c, k], param[3] is the forcing function"
   ]
  },
  {
   "cell_type": "code",
   "execution_count": 5,
   "metadata": {
    "collapsed": true
   },
   "outputs": [],
   "source": [
    "################ Mass-spring damper dynamics ################\n",
    "\n",
    "def read_parameters(path):\n",
    "    parameters = open(path,'rt')\n",
    "    parameters = parameters.readlines()\n",
    "    parameters = parameters[0].rstrip()\n",
    "    parameters = parameters.split(',')\n",
    "    parameters = [float(n) for n in parameters]\n",
    "    return parameters\n",
    "\n",
    "def dynamics(state, t, param = []):\n",
    "    m = param[0]\n",
    "    c = param[1]\n",
    "    k = param[2]\n",
    "    force = param[3]\n",
    "    if force is not None:\n",
    "        f = force(state,t)\n",
    "    else:\n",
    "        f = 0  \n",
    "    zeta = c/(2*(k*m)**0.5)\n",
    "    omega_o = (k/m)**0.5\n",
    "    state_dot = [state[1], -2*zeta*omega_o*state[1] - state[0]*omega_o**2 + f/m]\n",
    "    return state_dot\n",
    "\n",
    "def force(state, t):\n",
    "    return 4*math.sin(0.5*t)    "
   ]
  },
  {
   "cell_type": "code",
   "execution_count": null,
   "metadata": {
    "collapsed": true
   },
   "outputs": [],
   "source": []
  }
 ],
 "metadata": {
  "kernelspec": {
   "display_name": "Python 3",
   "language": "python",
   "name": "python3"
  },
  "language_info": {
   "codemirror_mode": {
    "name": "ipython",
    "version": 3
   },
   "file_extension": ".py",
   "mimetype": "text/x-python",
   "name": "python",
   "nbconvert_exporter": "python",
   "pygments_lexer": "ipython3",
   "version": "3.5.2"
  }
 },
 "nbformat": 4,
 "nbformat_minor": 1
}
