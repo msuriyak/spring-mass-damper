{
 "cells": [
  {
   "cell_type": "code",
   "execution_count": 2,
   "metadata": {
    "collapsed": false
   },
   "outputs": [],
   "source": [
    "def rk4(f, x0, t0, t1, n, param = []):\n",
    "    '''\n",
    "    Solve the IVP \n",
    "        dot(x) = f(x, t, param) \n",
    "    Initial conditions:\n",
    "        x(t0) = x0\n",
    "    from t0 to t1 (n steps)    \n",
    "    '''\n",
    "    import numpy as np\n",
    "    if type(x0) is list:\n",
    "        vx = np.array([np.array([float(0)]*len(x0))]*(n+1))\n",
    "    else:\n",
    "        vx = np.array([float(0)]*(n+1))   \n",
    "\n",
    "    time = [0]*(n+1)\n",
    "    vx[0] = x0\n",
    "    x = x0\n",
    "    time[0] = t0\n",
    "    t = t0\n",
    "    \n",
    "    h = (t1 - t0)/float(n)\n",
    "    for i in range(1,n+1):\n",
    "        k1 = h*np.array(f(x, t, param))\n",
    "        k2 = h*np.array(f(x + 0.5*k1, t + 0.5*h, param))\n",
    "        k3 = h*np.array(f(x + 0.5*k2, t + 0.5*h, param))\n",
    "        k4 = h*np.array(f(x + k3, t + h, param))\n",
    "        vx[i] = x + (1.0/6)*(k1 + 2*k2 + 2*k3 + k4)\n",
    "        time[i] = t0 + i*h \n",
    "        t = time[i]\n",
    "        x = vx[i]\n",
    "    if type(x0) is list:\n",
    "        res_vx = [list(k) for k in vx]\n",
    "    else:\n",
    "        res_vx = [k for k in vx]\n",
    "    return res_vx, time\n"
   ]
  },
  {
   "cell_type": "code",
   "execution_count": 3,
   "metadata": {
    "collapsed": false
   },
   "outputs": [
    {
     "name": "stdout",
     "output_type": "stream",
     "text": [
      "3.84875420423e-09\n",
      "3.84863062773e-09 3.84901988927e-09\n",
      "3.84875420423e-09 1.92412752398e-12\n",
      "3.22830095989e-11 2.98426838796e-11\n"
     ]
    }
   ],
   "source": [
    "# Test for rk4\n",
    "\n",
    "import math\n",
    "\n",
    "def check_rk4(y, t, param = []):\n",
    "    '''\n",
    "    Solving differential equation dot(y) = y ; y(0) = 1, t0 = 0, t = 5, n = 1000   \n",
    "    '''\n",
    "    return y\n",
    "\n",
    "def check_rk4_2(y, t, param = []):\n",
    "    '''\n",
    "    Solving differential equation dot(y1) = y1 + y2, dot(y2) = y1 - y2; y(0) = [10, 5], t0 = 0, t = 5, n = 1000   \n",
    "    '''\n",
    "    return [y[1], y[0]]\n",
    "\n",
    "def check_rk4_3(y, t, param = []):\n",
    "    '''\n",
    "    Solving differential equation dot(y1) = y1 , dot(y2) = - y2; y(0) = [1, 1], t0 = 0, t = 5, n = 1000   \n",
    "    '''\n",
    "    return [y[0] , -y[1]]\n",
    "\n",
    "def check_rk4_4(y, t, param = []):\n",
    "    '''\n",
    "    Solving differential equation dot(y1) = y1 , dot(y2) = - y2; y(0) = [1, 1], t0 = 0, t = 5, n = 1000   \n",
    "    '''\n",
    "    return [-y[1] , y[0]]\n",
    "\n",
    "\n",
    "def run_rk4_on_check_rk4():\n",
    "    y0 = 1\n",
    "    t0 = 0\n",
    "    t1 = 5\n",
    "    n = 1000\n",
    "    y,t = rk4(check_rk4, y0, t0, t1, n)\n",
    "    print( max( [ abs((y[i] - math.exp(t[i]))) for i in range(n+1) ] ) )\n",
    "    \n",
    "def run_rk4_on_check_rk4_2():\n",
    "    y0 = [2, 0]\n",
    "    t0 = 0\n",
    "    t1 = 5\n",
    "    n = 1000\n",
    "    y,t = rk4(check_rk4_2, y0, t0, t1, n)\n",
    "    print( max( [ abs((y[i][0] - math.exp(t[i]) - math.exp(-t[i]) )) for i in range(n+1) ] ), \\\n",
    "           max( [ abs((y[i][1] - math.exp(t[i]) + math.exp(-t[i]) )) for i in range(n+1) ] )  ) \n",
    "\n",
    "def run_rk4_on_check_rk4_3():\n",
    "    y0 = [1, 1]\n",
    "    t0 = 0\n",
    "    t1 = 5\n",
    "    n = 1000\n",
    "    y,t = rk4(check_rk4_3, y0, t0, t1, n)\n",
    "    print( max( [ abs((y[i][0] - math.exp(t[i]))) for i in range(n+1) ] ), \\\n",
    "           max( [ abs((y[i][1] - math.exp(-t[i]))) for i in range(n+1) ] )  )    \n",
    "\n",
    "def run_rk4_on_check_rk4_4():\n",
    "    y0 = [1, -1]\n",
    "    t0 = 0\n",
    "    t1 = 5\n",
    "    n = 1000\n",
    "    y,t = rk4(check_rk4_4, y0, t0, t1, n)\n",
    "    print( max( [ abs((y[i][0] - math.sin(t[i]) - math.cos(t[i]) )) for i in range(n+1) ] ), \\\n",
    "           max( [ abs((y[i][1] - math.sin(t[i]) + math.cos(t[i]) )) for i in range(n+1) ] )  ) \n",
    "    \n",
    "run_rk4_on_check_rk4()\n",
    "run_rk4_on_check_rk4_2()\n",
    "run_rk4_on_check_rk4_3()\n",
    "run_rk4_on_check_rk4_4()"
   ]
  },
  {
   "cell_type": "code",
   "execution_count": 12,
   "metadata": {
    "collapsed": true
   },
   "outputs": [],
   "source": [
    "def read_parameters(path):\n",
    "    parameters = open(path,'rt')\n",
    "    parameters = parameters.readlines()\n",
    "    parameters = parameters[0].rstrip()\n",
    "    parameters = parameters.split(',')\n",
    "    parameters = [float(n) for n in parameters]\n",
    "    return parameters\n",
    "\n",
    "def dynamics(state, t, param = []):\n",
    "    m = param[0]\n",
    "    c = param[1]\n",
    "    k = param[2]\n",
    "    force = param[3]\n",
    "    if force is not None:\n",
    "        f = force(state,t)\n",
    "    else:\n",
    "        f = 0\n",
    "    zeta = c/(2*(k*m)**0.5)\n",
    "    omega_o = (k/m)**0.5\n",
    "    state_dot = [state[1], -2*zeta*omega_o*state[1] - state[0]*omega_o**2 + f/m]\n",
    "    return state_dot\n",
    "\n",
    "def force(state, t):\n",
    "    return 4*math.sin(2*t)"
   ]
  },
  {
   "cell_type": "code",
   "execution_count": 13,
   "metadata": {
    "collapsed": false
   },
   "outputs": [],
   "source": [
    "import matplotlib.pyplot as plt\n",
    "import os\n",
    "\n",
    "base_path = os.getcwd()\n",
    "path = os.path.join(base_path,'parameters.txt')\n",
    "m,c,k = read_parameters(path)"
   ]
  },
  {
   "cell_type": "code",
   "execution_count": 15,
   "metadata": {
    "collapsed": false
   },
   "outputs": [
    {
     "data": {
      "image/png": "[encoded data removed]",
      "text/plain": [
       "<matplotlib.figure.Figure at 0x7f3f07b6f7b8>"
      ]
     },
     "metadata": {},
     "output_type": "display_data"
    }
   ],
   "source": [
    "y, t = rk4(dynamics, [0,0], 0, 5, 1000, [m,c,k,force])\n",
    "plt.figure(1)\n",
    "plt.plot(t,[k[0] for k in y])\n",
    "plt.show()"
   ]
  },
  {
   "cell_type": "code",
   "execution_count": 19,
   "metadata": {
    "collapsed": false
   },
   "outputs": [
    {
     "ename": "NameError",
     "evalue": "name 'E' is not defined",
     "output_type": "error",
     "traceback": [
      "\u001b[0;31m---------------------------------------------------------------------------\u001b[0m",
      "\u001b[0;31mNameError\u001b[0m                                 Traceback (most recent call last)",
      "\u001b[0;32m<ipython-input-19-2f458ebf8d33>\u001b[0m in \u001b[0;36m<module>\u001b[0;34m()\u001b[0m\n\u001b[0;32m----> 1\u001b[0;31m \u001b[0mE\u001b[0m\u001b[0;34m-\u001b[0m\u001b[0;36m5\u001b[0m\u001b[0;34m\u001b[0m\u001b[0m\n\u001b[0m",
      "\u001b[0;31mNameError\u001b[0m: name 'E' is not defined"
     ]
    }
   ],
   "source": [
    "E-5"
   ]
  },
  {
   "cell_type": "code",
   "execution_count": null,
   "metadata": {
    "collapsed": true
   },
   "outputs": [],
   "source": []
  }
 ],
 "metadata": {
  "kernelspec": {
   "display_name": "Python 3",
   "language": "python",
   "name": "python3"
  },
  "language_info": {
   "codemirror_mode": {
    "name": "ipython",
    "version": 3
   },
   "file_extension": ".py",
   "mimetype": "text/x-python",
   "name": "python",
   "nbconvert_exporter": "python",
   "pygments_lexer": "ipython3",
   "version": "3.5.2"
  }
 },
 "nbformat": 4,
 "nbformat_minor": 1
}
