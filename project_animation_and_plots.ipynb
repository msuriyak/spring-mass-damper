{
 "cells": [
  {
   "cell_type": "code",
   "execution_count": 14,
   "metadata": {
    "collapsed": true
   },
   "outputs": [],
   "source": [
    "def rk4(f, x0, y0, x1, n):\n",
    "    vx = [0] * (n + 1)\n",
    "    vy = [0] * (n + 1)\n",
    "    h = (x1 - x0) / float(n)\n",
    "    vx[0] = x = x0\n",
    "    vy[0] = y = y0\n",
    "    for i in range(1, n + 1):\n",
    "        k1 = h * f(x, y)\n",
    "        k2 = h * f(x + 0.5 * h, y + 0.5 * k1)\n",
    "        k3 = h * f(x + 0.5 * h, y + 0.5 * k2)\n",
    "        k4 = h * f(x + h, y + k3)\n",
    "        vx[i] = x = x0 + i * h\n",
    "        vy[i] = y = y + (k1 + k2 + k2 + k3 + k3 + k4) / 6\n",
    "    return vx, vy\n",
    "\n",
    "def dynamics(m,c,k,state,force):\n",
    "    zeta = c/(2*(k*m)**0.5)\n",
    "    omega_o = (k/m)**0.5k\n",
    "    state_dot = [state[0], -2*zeta*omega_o*state[1] - state[0]*omega_o**2 + force/m]\n",
    "    return state_dot\n",
    "    "
   ]
  },
  {
   "cell_type": "code",
   "execution_count": 15,
   "metadata": {
    "collapsed": false
   },
   "outputs": [],
   "source": [
    "import matplotlib\n",
    "\n",
    "parameters = open('parameters.txt','rt')\n",
    "parameters = parameters.readlines()\n",
    "parameters = parameters[0].rstrip()\n",
    "parameters = parameters.split(',')\n",
    "parameters = [float(n) for n in parameters]\n",
    "\n",
    "m,c,k = parameters"
   ]
  },
  {
   "cell_type": "code",
   "execution_count": 16,
   "metadata": {
    "collapsed": false
   },
   "outputs": [
    {
     "data": {
      "text/plain": [
       "[0, 1.0]"
      ]
     },
     "execution_count": 16,
     "metadata": {},
     "output_type": "execute_result"
    }
   ],
   "source": [
    "state = [0,0]\n",
    "dynamics(m,c,k,state,1)"
   ]
  },
  {
   "cell_type": "code",
   "execution_count": null,
   "metadata": {
    "collapsed": true
   },
   "outputs": [],
   "source": []
  }
 ],
 "metadata": {
  "kernelspec": {
   "display_name": "Python 3",
   "language": "python",
   "name": "python3"
  },
  "language_info": {
   "codemirror_mode": {
    "name": "ipython",
    "version": 3
   },
   "file_extension": ".py",
   "mimetype": "text/x-python",
   "name": "python",
   "nbconvert_exporter": "python",
   "pygments_lexer": "ipython3",
   "version": "3.5.2"
  }
 },
 "nbformat": 4,
 "nbformat_minor": 1
}
